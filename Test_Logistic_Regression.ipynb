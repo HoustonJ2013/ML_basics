{
 "cells": [
  {
   "cell_type": "code",
   "execution_count": 2,
   "metadata": {},
   "outputs": [
    {
     "name": "stdout",
     "output_type": "stream",
     "text": [
      "The autoreload extension is already loaded. To reload it, use:\n",
      "  %reload_ext autoreload\n"
     ]
    }
   ],
   "source": [
    "from sklearn.datasets import make_classification\n",
    "import matplotlib.pyplot as plt\n",
    "import numpy as np\n",
    "from sklearn.metrics import accuracy_score\n",
    "%matplotlib inline\n",
    "%load_ext autoreload\n",
    "%autoreload 2"
   ]
  },
  {
   "cell_type": "code",
   "execution_count": 3,
   "metadata": {
    "collapsed": true
   },
   "outputs": [],
   "source": [
    "X, y = make_classification(n_samples=100,\n",
    "                            n_features=2,\n",
    "                            n_informative=2,\n",
    "                            n_redundant=0,\n",
    "                            n_classes=2,\n",
    "                            random_state=0)\n",
    "y.shape\n",
    "y = y.reshape(y.shape[0], 1)"
   ]
  },
  {
   "cell_type": "code",
   "execution_count": 4,
   "metadata": {},
   "outputs": [
    {
     "data": {
      "image/png": "[encoded data removed]",
      "text/plain": [
       "<matplotlib.figure.Figure at 0x7faa86daf290>"
      ]
     },
     "metadata": {},
     "output_type": "display_data"
    }
   ],
   "source": [
    "y1_mask = (y ==1)\n",
    "y0_mask = (y ==0)\n",
    "plt.plot(X[y0_mask[:,0],0], X[y0_mask[:,0],1],\"r.\")\n",
    "plt.plot(X[y1_mask[:,0],0], X[y1_mask[:,0],1],\"b.\")\n",
    "slope = -3\n",
    "intercept = -1\n",
    "x0 = np.arange(-5,5)\n",
    "y0 = slope * x0 + intercept\n",
    "plt.title(\"Initial Guess of decision boundary\")\n",
    "plt.plot(x0,y0,\"k-\")\n",
    "plt.ylim([-5,5])\n",
    "plt.show()\n"
   ]
  },
  {
   "cell_type": "code",
   "execution_count": 6,
   "metadata": {
    "scrolled": true
   },
   "outputs": [
    {
     "name": "stdout",
     "output_type": "stream",
     "text": [
      "('Self developed score :', 0.93000000000000005)\n",
      "('Sklearn score : ', 0.93000000000000005)\n"
     ]
    }
   ],
   "source": [
    "from linear_models.Logistic_Regression_JL import Logistic_Regression_JL as LG_JL\n",
    "from sklearn.linear_model  import LogisticRegression\n",
    "lgr = LG_JL(fit_intercept=True)\n",
    "lgr.fit(X,y,alpha_= 0.0001)\n",
    "print(\"Self developed score :\", lgr.score(X,y))\n",
    "lgr_sk = LogisticRegression(C=10**6, fit_intercept=True,solver = \"newton-cg\")\n",
    "lgr_sk.fit(X,y)\n",
    "print(\"Sklearn score : \",lgr_sk.score(X,y))"
   ]
  },
  {
   "cell_type": "code",
   "execution_count": 7,
   "metadata": {},
   "outputs": [
    {
     "name": "stdout",
     "output_type": "stream",
     "text": [
      "('Self developed score :', 0.93000000000000005)\n",
      "('Sklearn score : ', 0.93000000000000005)\n"
     ]
    }
   ],
   "source": [
    "from linear_models.Logistic_Regression_JL import Logistic_Regression_JL as LG_JL\n",
    "from sklearn.linear_model  import LogisticRegression\n",
    "lgr = LG_JL(fit_intercept=True,lamb=0.1)\n",
    "lgr.fit(X,y,alpha_= 0.0001)\n",
    "print(\"Self developed score :\", lgr.score(X,y))\n",
    "lgr_sk = LogisticRegression(C=1, fit_intercept=True,solver = \"newton-cg\")\n",
    "lgr_sk.fit(X,y)\n",
    "print(\"Sklearn score : \",lgr_sk.score(X,y))"
   ]
  }
 ],
 "metadata": {
  "kernelspec": {
   "display_name": "Python 2",
   "language": "python",
   "name": "python2"
  },
  "language_info": {
   "codemirror_mode": {
    "name": "ipython",
    "version": 2
   },
   "file_extension": ".py",
   "mimetype": "text/x-python",
   "name": "python",
   "nbconvert_exporter": "python",
   "pygments_lexer": "ipython2",
   "version": "2.7.13"
  }
 },
 "nbformat": 4,
 "nbformat_minor": 2
}
