{
 "cells": [
  {
   "cell_type": "code",
   "execution_count": 47,
   "metadata": {
    "collapsed": true
   },
   "outputs": [],
   "source": [
    "from sklearn.datasets import load_iris\n",
    "import matplotlib.pyplot as plt\n",
    "import numpy as np\n",
    "from Kmeans_JL import Kmeans\n",
    "%matplotlib inline"
   ]
  },
  {
   "cell_type": "code",
   "execution_count": 19,
   "metadata": {
    "collapsed": true
   },
   "outputs": [],
   "source": [
    "X,y = load_iris(return_X_y=True)"
   ]
  },
  {
   "cell_type": "code",
   "execution_count": 20,
   "metadata": {},
   "outputs": [
    {
     "name": "stdout",
     "output_type": "stream",
     "text": [
      "(150, 4)\n",
      "(150,)\n",
      "[0 1 2]\n"
     ]
    }
   ],
   "source": [
    "print(X.shape)\n",
    "print(y.shape)\n",
    "print(np.unique(y))"
   ]
  },
  {
   "cell_type": "code",
   "execution_count": 52,
   "metadata": {
    "collapsed": true
   },
   "outputs": [],
   "source": [
    "def plot_cluster(X,clusters):\n",
    "    k = np.unique(clusters)\n",
    "    for i in sorted(k):\n",
    "        plt.plot(X[clusters == i, 0],X[clusters == i, 1],\"o\")"
   ]
  },
  {
   "cell_type": "code",
   "execution_count": 53,
   "metadata": {},
   "outputs": [
    {
     "data": {
      "image/png": "[encoded data removed]",
      "text/plain": [
       "<matplotlib.figure.Figure at 0x7f91c86fe9d0>"
      ]
     },
     "metadata": {},
     "output_type": "display_data"
    }
   ],
   "source": [
    "plot_cluster(X,y)"
   ]
  },
  {
   "cell_type": "code",
   "execution_count": 40,
   "metadata": {},
   "outputs": [
    {
     "name": "stdout",
     "output_type": "stream",
     "text": [
      "(3, 4)\n"
     ]
    }
   ],
   "source": [
    "## Test initialize centroid \n",
    "km = Kmeans()\n",
    "km.X = X\n",
    "km.init_centroid_()\n",
    "print(km.centroids.shape)"
   ]
  },
  {
   "cell_type": "code",
   "execution_count": 45,
   "metadata": {},
   "outputs": [
    {
     "name": "stdout",
     "output_type": "stream",
     "text": [
      "[[  2.90000000e-01   7.31000000e+00   1.48500000e+01]\n",
      " [  6.00000000e-02   6.06000000e+00   1.51600000e+01]\n",
      " [  1.10000000e-01   7.01000000e+00   1.62500000e+01]\n",
      " [  5.00000000e-02   6.01000000e+00   1.51500000e+01]\n",
      " [  3.30000000e-01   7.61000000e+00   1.50900000e+01]\n",
      " [  1.05000000e+00   7.37000000e+00   1.23100000e+01]\n",
      " [  1.80000000e-01   7.02000000e+00   1.55400000e+01]\n",
      " [  1.40000000e-01   6.60000000e+00   1.43000000e+01]\n",
      " [  2.40000000e-01   6.22000000e+00   1.64600000e+01]\n",
      " [  3.00000000e-02   6.03000000e+00   1.47900000e+01]\n",
      " [  7.30000000e-01   7.69000000e+00   1.39500000e+01]\n",
      " [  9.00000000e-02   6.25000000e+00   1.40500000e+01]\n",
      " [  6.00000000e-02   6.26000000e+00   1.57000000e+01]\n",
      " [  5.20000000e-01   8.06000000e+00   1.91800000e+01]\n",
      " [  1.97000000e+00   1.05700000e+01   1.61700000e+01]\n",
      " [  2.55000000e+00   1.06100000e+01   1.43300000e+01]\n",
      " [  1.13000000e+00   8.97000000e+00   1.49500000e+01]\n",
      " [  3.00000000e-01   7.16000000e+00   1.45400000e+01]\n",
      " [  1.32000000e+00   7.46000000e+00   1.22600000e+01]\n",
      " [  6.00000000e-01   7.74000000e+00   1.41400000e+01]\n",
      " [  4.60000000e-01   6.00000000e+00   1.24600000e+01]\n",
      " [  5.00000000e-01   7.26000000e+00   1.37400000e+01]\n",
      " [  6.50000000e-01   9.61000000e+00   1.88500000e+01]\n",
      " [  2.30000000e-01   5.19000000e+00   1.19500000e+01]\n",
      " [  1.80000000e-01   5.20000000e+00   1.22200000e+01]\n",
      " [  5.00000000e-02   5.25000000e+00   1.36500000e+01]\n",
      " [  1.70000000e-01   5.93000000e+00   1.30500000e+01]\n",
      " [  3.30000000e-01   6.93000000e+00   1.40300000e+01]\n",
      " [  2.90000000e-01   7.05000000e+00   1.46500000e+01]\n",
      " [  2.00000000e-02   5.78000000e+00   1.42400000e+01]\n",
      " [  0.00000000e+00   5.50000000e+00   1.40200000e+01]\n",
      " [  5.00000000e-01   6.48000000e+00   1.31400000e+01]\n",
      " [  1.18000000e+00   9.26000000e+00   1.50800000e+01]\n",
      " [  1.74000000e+00   1.01400000e+01   1.52800000e+01]\n",
      " [  3.00000000e-02   6.03000000e+00   1.47900000e+01]\n",
      " [  2.10000000e-01   7.37000000e+00   1.63300000e+01]\n",
      " [  7.40000000e-01   7.98000000e+00   1.50600000e+01]\n",
      " [  3.00000000e-02   6.03000000e+00   1.47900000e+01]\n",
      " [  2.60000000e-01   6.84000000e+00   1.71000000e+01]\n",
      " [  1.90000000e-01   6.61000000e+00   1.41300000e+01]\n",
      " [  3.00000000e-01   7.58000000e+00   1.54000000e+01]\n",
      " [  8.30000000e-01   5.67000000e+00   1.72700000e+01]\n",
      " [  2.60000000e-01   7.28000000e+00   1.70600000e+01]\n",
      " [  3.60000000e-01   6.02000000e+00   1.25800000e+01]\n",
      " [  7.10000000e-01   6.17000000e+00   1.13700000e+01]\n",
      " [  6.00000000e-02   5.94000000e+00   1.50600000e+01]\n",
      " [  5.80000000e-01   7.50000000e+00   1.38000000e+01]\n",
      " [  9.00000000e-02   6.65000000e+00   1.58100000e+01]\n",
      " [  6.20000000e-01   7.62000000e+00   1.40600000e+01]\n",
      " [  1.20000000e-01   6.74000000e+00   1.49400000e+01]\n",
      " [  1.59000000e+01   7.04000000e+00   1.38000000e+00]\n",
      " [  1.26700000e+01   4.65000000e+00   4.30000000e-01]\n",
      " [  1.69900000e+01   7.03000000e+00   1.11000000e+00]\n",
      " [  8.10000000e+00   6.80000000e-01   1.86000000e+00]\n",
      " [  1.36700000e+01   4.35000000e+00   6.50000000e-01]\n",
      " [  1.05200000e+01   2.22000000e+00   5.40000000e-01]\n",
      " [  1.38600000e+01   5.18000000e+00   2.20000000e-01]\n",
      " [  4.03000000e+00   2.10000000e-01   4.53000000e+00]\n",
      " [  1.34900000e+01   4.67000000e+00   8.70000000e-01]\n",
      " [  7.05000000e+00   8.50000000e-01   1.71000000e+00]\n",
      " [  5.50000000e+00   0.00000000e+00   4.58000000e+00]\n",
      " [  9.67000000e+00   2.55000000e+00   4.90000000e-01]\n",
      " [  8.65000000e+00   1.29000000e+00   2.29000000e+00]\n",
      " [  1.27800000e+01   3.62000000e+00   3.00000000e-01]\n",
      " [  5.89000000e+00   1.27000000e+00   1.87000000e+00]\n",
      " [  1.28900000e+01   5.07000000e+00   9.70000000e-01]\n",
      " [  1.07500000e+01   2.61000000e+00   3.10000000e-01]\n",
      " [  8.05000000e+00   1.49000000e+00   1.39000000e+00]\n",
      " [  1.28700000e+01   2.73000000e+00   1.27000000e+00]\n",
      " [  7.10000000e+00   7.80000000e-01   1.88000000e+00]\n",
      " [  1.40200000e+01   4.58000000e+00   0.00000000e+00]\n",
      " [  8.75000000e+00   2.19000000e+00   1.09000000e+00]\n",
      " [  1.51900000e+01   4.15000000e+00   7.50000000e-01]\n",
      " [  1.23900000e+01   3.33000000e+00   5.70000000e-01]\n",
      " [  1.11000000e+01   3.50000000e+00   8.40000000e-01]\n",
      " [  1.25300000e+01   4.53000000e+00   8.50000000e-01]\n",
      " [  1.57700000e+01   5.73000000e+00   1.13000000e+00]\n",
      " [  1.74300000e+01   6.63000000e+00   7.30000000e-01]\n",
      " [  1.15800000e+01   3.06000000e+00   2.80000000e-01]\n",
      " [  5.31000000e+00   8.50000000e-01   2.73000000e+00]\n",
      " [  6.63000000e+00   5.10000000e-01   2.29000000e+00]\n",
      " [  6.03000000e+00   4.50000000e-01   2.65000000e+00]\n",
      " [  7.45000000e+00   1.33000000e+00   1.43000000e+00]\n",
      " [  1.58100000e+01   4.41000000e+00   3.90000000e-01]\n",
      " [  1.04700000e+01   2.41000000e+00   4.70000000e-01]\n",
      " [  1.19000000e+01   4.32000000e+00   1.80000000e-01]\n",
      " [  1.49100000e+01   5.79000000e+00   7.50000000e-01]\n",
      " [  1.19400000e+01   2.68000000e+00   1.38000000e+00]\n",
      " [  8.11000000e+00   1.81000000e+00   8.70000000e-01]\n",
      " [  7.82000000e+00   8.40000000e-01   1.54000000e+00]\n",
      " [  9.58000000e+00   1.46000000e+00   1.04000000e+00]\n",
      " [  1.21400000e+01   3.58000000e+00   2.80000000e-01]\n",
      " [  8.01000000e+00   1.29000000e+00   1.37000000e+00]\n",
      " [  4.21000000e+00   1.30000000e-01   4.51000000e+00]\n",
      " [  8.77000000e+00   1.43000000e+00   9.50000000e-01]\n",
      " [  8.58000000e+00   2.02000000e+00   8.00000000e-01]\n",
      " [  8.82000000e+00   1.88000000e+00   7.40000000e-01]\n",
      " [  1.05000000e+01   2.98000000e+00   6.80000000e-01]\n",
      " [  3.22000000e+00   5.20000000e-01   4.86000000e+00]\n",
      " [  8.36000000e+00   1.58000000e+00   9.40000000e-01]\n",
      " [  2.69400000e+01   1.18800000e+01   2.10000000e+00]\n",
      " [  1.63000000e+01   4.50000000e+00   3.60000000e-01]\n",
      " [  2.74000000e+01   1.23800000e+01   2.78000000e+00]\n",
      " [  2.08500000e+01   7.55000000e+00   8.90000000e-01]\n",
      " [  2.45400000e+01   9.98000000e+00   1.56000000e+00]\n",
      " [  3.64600000e+01   1.85800000e+01   6.26000000e+00]\n",
      " [  1.10300000e+01   1.75000000e+00   1.59000000e+00]\n",
      " [  3.09400000e+01   1.45800000e+01   4.30000000e+00]\n",
      " [  2.41700000e+01   9.07000000e+00   2.13000000e+00]\n",
      " [  3.15500000e+01   1.64100000e+01   4.03000000e+00]\n",
      " [  1.83900000e+01   7.25000000e+00   4.90000000e-01]\n",
      " [  1.93000000e+01   6.50000000e+00   7.60000000e-01]\n",
      " [  2.28300000e+01   9.45000000e+00   1.43000000e+00]\n",
      " [  1.59700000e+01   3.99000000e+00   6.10000000e-01]\n",
      " [  1.81800000e+01   5.80000000e+00   6.20000000e-01]\n",
      " [  2.06700000e+01   8.33000000e+00   7.50000000e-01]\n",
      " [  2.06700000e+01   7.89000000e+00   8.90000000e-01]\n",
      " [  3.89100000e+01   2.22100000e+01   7.37000000e+00]\n",
      " [  4.11600000e+01   2.09000000e+01   8.26000000e+00]\n",
      " [  1.55000000e+01   3.54000000e+00   1.14000000e+00]\n",
      " [  2.56400000e+01   1.15800000e+01   2.06000000e+00]\n",
      " [  1.48600000e+01   3.96000000e+00   3.00000000e-01]\n",
      " [  3.77500000e+01   1.91700000e+01   7.05000000e+00]\n",
      " [  1.58600000e+01   4.78000000e+00   4.20000000e-01]\n",
      " [  2.40700000e+01   1.06300000e+01   1.55000000e+00]\n",
      " [  2.76900000e+01   1.31700000e+01   3.13000000e+00]\n",
      " [  1.48500000e+01   4.41000000e+00   2.50000000e-01]\n",
      " [  1.51500000e+01   4.81000000e+00   9.00000000e-02]\n",
      " [  2.22600000e+01   8.22000000e+00   1.14000000e+00]\n",
      " [  2.53700000e+01   1.14900000e+01   2.77000000e+00]\n",
      " [  2.99900000e+01   1.39700000e+01   4.11000000e+00]\n",
      " [  3.63800000e+01   2.10600000e+01   6.96000000e+00]\n",
      " [  2.26500000e+01   8.45000000e+00   1.21000000e+00]\n",
      " [  1.62800000e+01   5.14000000e+00   5.00000000e-01]\n",
      " [  1.93800000e+01   6.14000000e+00   1.20000000e+00]\n",
      " [  3.30800000e+01   1.67400000e+01   5.22000000e+00]\n",
      " [  2.31800000e+01   1.00200000e+01   1.20000000e+00]\n",
      " [  2.03300000e+01   7.81000000e+00   7.50000000e-01]\n",
      " [  1.42500000e+01   4.33000000e+00   5.00000000e-02]\n",
      " [  2.24600000e+01   9.64000000e+00   1.46000000e+00]\n",
      " [  2.44500000e+01   1.04700000e+01   1.65000000e+00]\n",
      " [  2.10700000e+01   9.07000000e+00   1.35000000e+00]\n",
      " [  1.63000000e+01   4.50000000e+00   3.60000000e-01]\n",
      " [  2.69100000e+01   1.21300000e+01   2.27000000e+00]\n",
      " [  2.57500000e+01   1.16700000e+01   1.95000000e+00]\n",
      " [  2.09900000e+01   8.47000000e+00   1.09000000e+00]\n",
      " [  1.70600000e+01   5.00000000e+00   7.00000000e-01]\n",
      " [  1.91000000e+01   7.14000000e+00   6.00000000e-01]\n",
      " [  2.09000000e+01   8.70000000e+00   7.40000000e-01]\n",
      " [  1.60300000e+01   5.01000000e+00   1.30000000e-01]]\n"
     ]
    }
   ],
   "source": [
    "## Test for update centroid\n",
    "km = Kmeans()\n",
    "km.X = X\n",
    "km.init_centroid_()\n",
    "print(km.distance_())"
   ]
  },
  {
   "cell_type": "code",
   "execution_count": 59,
   "metadata": {},
   "outputs": [
    {
     "name": "stdout",
     "output_type": "stream",
     "text": [
      "('Updating iteratio ', 0, 2.1458944930747905)\n",
      "('Updating iteratio ', 1, 0.52124256510193867)\n",
      "('Updating iteratio ', 2, 0.079782902365513733)\n",
      "('Updating iteratio ', 3, 0.020002994187755582)\n",
      "('Updating iteratio ', 4, 0.010889040798610789)\n",
      "('Updating iteratio ', 5, 0.016743283210897131)\n",
      "('Updating iteratio ', 6, 0.0097444047376659092)\n",
      "('Updating iteratio ', 7, 0.017382074883293165)\n",
      "('Updating iteratio ', 8, 0.0059105226055447251)\n",
      "('Updating iteratio ', 9, 0.006956268145326067)\n",
      "('Updating iteratio ', 10, 0.0014561250815202185)\n",
      "('Updating iteratio ', 11, 0.0)\n"
     ]
    }
   ],
   "source": [
    "from Kmeans_JL import Kmeans\n",
    "km = Kmeans()\n",
    "clusters = km.fit(X)"
   ]
  },
  {
   "cell_type": "code",
   "execution_count": 60,
   "metadata": {},
   "outputs": [
    {
     "data": {
      "image/png": "[encoded data removed]",
      "text/plain": [
       "<matplotlib.figure.Figure at 0x7f91c86041d0>"
      ]
     },
     "metadata": {},
     "output_type": "display_data"
    }
   ],
   "source": [
    "plot_cluster(X,clusters)"
   ]
  },
  {
   "cell_type": "code",
   "execution_count": 64,
   "metadata": {},
   "outputs": [
    {
     "data": {
      "text/plain": [
       "[<matplotlib.lines.Line2D at 0x7f91c85b9210>]"
      ]
     },
     "execution_count": 64,
     "metadata": {},
     "output_type": "execute_result"
    },
    {
     "data": {
      "image/png": "[encoded data removed]",
      "text/plain": [
       "<matplotlib.figure.Figure at 0x7f91c83bc110>"
      ]
     },
     "metadata": {},
     "output_type": "display_data"
    }
   ],
   "source": [
    "from Kmeans_JL import Kmeans\n",
    "km = Kmeans()\n",
    "max_cluster = 10\n",
    "elbow_dist = km.elbow_fit(X,K_max=max_cluster)\n",
    "cluster_list = np.arange(1, max_cluster+1)\n",
    "plt.plot(cluster_list,elbow_dist)"
   ]
  },
  {
   "cell_type": "code",
   "execution_count": 67,
   "metadata": {},
   "outputs": [
    {
     "data": {
      "text/plain": [
       "[<matplotlib.lines.Line2D at 0x7f91c8421990>]"
      ]
     },
     "execution_count": 67,
     "metadata": {},
     "output_type": "execute_result"
    },
    {
     "data": {
      "image/png": "[encoded data removed]",
      "text/plain": [
       "<matplotlib.figure.Figure at 0x7f91c82addd0>"
      ]
     },
     "metadata": {},
     "output_type": "display_data"
    }
   ],
   "source": [
    "from Kmeans_JL import Kmeans\n",
    "km = Kmeans()\n",
    "max_cluster = 10\n",
    "Silhouette_score = km.Silhouette_fit(X,K_max=max_cluster)\n",
    "cluster_list = np.arange(2, max_cluster+1)\n",
    "plt.plot(cluster_list,Silhouette_score)"
   ]
  },
  {
   "cell_type": "code",
   "execution_count": 69,
   "metadata": {},
   "outputs": [
    {
     "data": {
      "image/png": "[encoded data removed]",
      "text/plain": [
       "<matplotlib.figure.Figure at 0x7f91bf6b6710>"
      ]
     },
     "metadata": {},
     "output_type": "display_data"
    },
    {
     "data": {
      "image/png": "[encoded data removed]",
      "text/plain": [
       "<matplotlib.figure.Figure at 0x7f91bf60df50>"
      ]
     },
     "metadata": {},
     "output_type": "display_data"
    }
   ],
   "source": [
    "from sklearn.cluster import KMeans\n",
    "from Kmeans_JL import Kmeans\n",
    "km = Kmeans()\n",
    "clusters = km.fit(X)\n",
    "kmeans = KMeans(n_clusters=3, random_state=0).fit(X)\n",
    "cluster_km = kmeans.labels_\n",
    "plot_cluster(X,clusters)\n",
    "plt.show()\n",
    "plot_cluster(X,cluster_km)\n",
    "plt.show()"
   ]
  },
  {
   "cell_type": "code",
   "execution_count": null,
   "metadata": {
    "collapsed": true
   },
   "outputs": [],
   "source": []
  }
 ],
 "metadata": {
  "kernelspec": {
   "display_name": "Python 2",
   "language": "python",
   "name": "python2"
  },
  "language_info": {
   "codemirror_mode": {
    "name": "ipython",
    "version": 2
   },
   "file_extension": ".py",
   "mimetype": "text/x-python",
   "name": "python",
   "nbconvert_exporter": "python",
   "pygments_lexer": "ipython2",
   "version": "2.7.13"
  }
 },
 "nbformat": 4,
 "nbformat_minor": 2
}
