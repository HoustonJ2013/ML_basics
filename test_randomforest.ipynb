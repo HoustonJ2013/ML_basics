{
 "cells": [
  {
   "cell_type": "code",
   "execution_count": 1,
   "metadata": {
    "collapsed": true
   },
   "outputs": [],
   "source": [
    "import pandas as pd\n",
    "import numpy as np\n",
    "from src.RandomForest import RandomForest\n",
    "from sklearn.model_selection import train_test_split\n",
    "from src.DecisionTree import DecisionTree\n",
    "from sklearn.model_selection import KFold\n",
    "\n",
    "df = pd.read_csv('data/playgolf.csv')\n",
    "y = df.pop('Result').values\n",
    "X = df.values\n",
    "X_train, X_test, y_train, y_test = train_test_split(X, y)"
   ]
  },
  {
   "cell_type": "code",
   "execution_count": 2,
   "metadata": {},
   "outputs": [
    {
     "name": "stdout",
     "output_type": "stream",
     "text": [
      "RF score on golf data set: 0.25\n",
      "DT score on golf data set: 0.25\n"
     ]
    }
   ],
   "source": [
    "rf = RandomForest(num_trees=10, num_features=2)\n",
    "rf.fit(X_train, y_train)\n",
    "y_predict = rf.predict(X_test)\n",
    "print \"RF score on golf data set:\", rf.score(X_test, y_test)\n",
    "\n",
    "dt = DecisionTree()\n",
    "dt.fit(X_train, y_train)\n",
    "predicted_y = dt.predict(X_test)\n",
    "print \"DT score on golf data set:\", dt.score(X_test,y_test)"
   ]
  },
  {
   "cell_type": "code",
   "execution_count": 3,
   "metadata": {
    "collapsed": true
   },
   "outputs": [],
   "source": [
    "df2 = pd.read_csv(\"data/congressional_voting.csv\",header=None)\n",
    "y = df2.iloc[:,0].values\n",
    "X = df2.iloc[:,1:].values\n",
    "X_train, X_test, y_train, y_test = train_test_split(X, y)"
   ]
  },
  {
   "cell_type": "code",
   "execution_count": 4,
   "metadata": {},
   "outputs": [
    {
     "name": "stdout",
     "output_type": "stream",
     "text": [
      "((326, 16), (326,))\n"
     ]
    }
   ],
   "source": [
    "print(X_train.shape,y_train.shape)"
   ]
  },
  {
   "cell_type": "code",
   "execution_count": 5,
   "metadata": {},
   "outputs": [
    {
     "name": "stdout",
     "output_type": "stream",
     "text": [
      "RF score on golf data set: 0.97247706422\n",
      "DT score on golf data set: 0.889908256881\n"
     ]
    }
   ],
   "source": [
    "rf = RandomForest(num_trees=10, num_features=2)\n",
    "rf.fit(X_train, y_train)\n",
    "y_predict = rf.predict(X_test)\n",
    "print \"RF score on golf data set:\", rf.score(X_test, y_test)\n",
    "\n",
    "dt = DecisionTree()\n",
    "dt.fit(X_train, y_train)\n",
    "predicted_y = dt.predict(X_test)\n",
    "print \"DT score on golf data set:\", dt.score(X_test,y_test)"
   ]
  },
  {
   "cell_type": "code",
   "execution_count": 6,
   "metadata": {
    "collapsed": true
   },
   "outputs": [],
   "source": [
    "from sklearn.model_selection import KFold\n",
    "def crossVal(model,X_train,y_train,n_fold = 8):\n",
    "    Kf = KFold(n_splits = n_fold)\n",
    "    score_list = []\n",
    "    R2_list =[]\n",
    "    for train_index, val_index in Kf.split(X_train):\n",
    "        Xc_train,yc_train = X_train[train_index], y_train[train_index]\n",
    "        Xc_test, yc_test = X_train[val_index],y_train[val_index]\n",
    "        #print(Xc_train.shape,yc_train.shape,Xc_test.shape,yc_test.shape)\n",
    "        model.fit(Xc_train, yc_train)\n",
    "        score_list.append(model.score(Xc_test,yc_test))\n",
    "    return score_list,np.mean(score_list)"
   ]
  },
  {
   "cell_type": "code",
   "execution_count": 7,
   "metadata": {},
   "outputs": [
    {
     "name": "stdout",
     "output_type": "stream",
     "text": [
      "('Random Forest Performance ', ([0.9393939393939394, 0.9692307692307692, 0.9230769230769231, 0.9230769230769231, 0.9692307692307692], 0.94480186480186501))\n",
      "('Decision Tree Performance ', ([0.9545454545454546, 0.9692307692307692, 0.9230769230769231, 0.9230769230769231, 0.9384615384615385], 0.94167832167832177))\n"
     ]
    }
   ],
   "source": [
    "rf = RandomForest(num_trees=5, num_features=3)\n",
    "dt = DecisionTree()\n",
    "print(\"Random Forest Performance \",crossVal(rf,X_train,y_train,n_fold = 5))\n",
    "print(\"Decision Tree Performance \",crossVal(dt,X_train,y_train,n_fold = 5))"
   ]
  },
  {
   "cell_type": "code",
   "execution_count": 8,
   "metadata": {},
   "outputs": [
    {
     "name": "stdout",
     "output_type": "stream",
     "text": [
      "('Random Forest Performance ', ([0.9393939393939394, 0.9384615384615385, 0.8769230769230769, 0.9538461538461539, 0.9538461538461539], 0.93249417249417255))\n",
      "('Decision Tree Performance ', ([0.9545454545454546, 0.9692307692307692, 0.9230769230769231, 0.9230769230769231, 0.9384615384615385], 0.94167832167832177))\n"
     ]
    }
   ],
   "source": [
    "rf = RandomForest(num_trees=10, num_features=4)\n",
    "dt = DecisionTree()\n",
    "print(\"Random Forest Performance \",crossVal(rf,X_train,y_train,n_fold = 5))\n",
    "print(\"Decision Tree Performance \",crossVal(dt,X_train,y_train,n_fold = 5))"
   ]
  },
  {
   "cell_type": "code",
   "execution_count": 9,
   "metadata": {},
   "outputs": [
    {
     "name": "stdout",
     "output_type": "stream",
     "text": [
      "('Random Forest Performance ', ([0.9545454545454546, 0.9692307692307692, 0.9384615384615385, 0.9230769230769231, 0.9692307692307692], 0.95090909090909093))\n",
      "('Decision Tree Performance ', ([0.9545454545454546, 0.9692307692307692, 0.9230769230769231, 0.9230769230769231, 0.9384615384615385], 0.94167832167832177))\n"
     ]
    }
   ],
   "source": [
    "rf = RandomForest(num_trees=50, num_features=4)\n",
    "dt = DecisionTree()\n",
    "print(\"Random Forest Performance \",crossVal(rf,X_train,y_train,n_fold = 5))\n",
    "print(\"Decision Tree Performance \",crossVal(dt,X_train,y_train,n_fold = 5))"
   ]
  },
  {
   "cell_type": "code",
   "execution_count": 10,
   "metadata": {},
   "outputs": [
    {
     "name": "stdout",
     "output_type": "stream",
     "text": [
      "('Random Forest Performance ', ([0.9545454545454546, 0.9692307692307692, 0.9230769230769231, 0.9230769230769231, 0.9692307692307692], 0.94783216783216795))\n",
      "('Decision Tree Performance ', ([0.9545454545454546, 0.9692307692307692, 0.9230769230769231, 0.9230769230769231, 0.9384615384615385], 0.94167832167832177))\n"
     ]
    }
   ],
   "source": [
    "rf = RandomForest(num_trees=100, num_features=4)\n",
    "dt = DecisionTree()\n",
    "print(\"Random Forest Performance \",crossVal(rf,X_train,y_train,n_fold = 5))\n",
    "print(\"Decision Tree Performance \",crossVal(dt,X_train,y_train,n_fold = 5))"
   ]
  },
  {
   "cell_type": "code",
   "execution_count": 11,
   "metadata": {},
   "outputs": [
    {
     "name": "stdout",
     "output_type": "stream",
     "text": [
      "0.917431192661\n"
     ]
    },
    {
     "data": {
      "text/plain": [
       "0.963302752293578"
      ]
     },
     "execution_count": 11,
     "metadata": {},
     "output_type": "execute_result"
    }
   ],
   "source": [
    "n = len(rf.forest)\n",
    "forests = rf.forest\n",
    "forests_scores = []\n",
    "print(forests[0].score(X_test,y_test))\n",
    "for i in xrange(n):\n",
    "    forests_scores.append(forests[i].score(X_test,y_test))\n",
    "rf.score(X_test,y_test)"
   ]
  },
  {
   "cell_type": "markdown",
   "metadata": {},
   "source": [
    "## Compare to Sklearn RandomForestClassifier"
   ]
  },
  {
   "cell_type": "code",
   "execution_count": 13,
   "metadata": {},
   "outputs": [],
   "source": [
    "from sklearn import preprocessing\n",
    "from collections import defaultdict\n",
    "\n",
    "df2 = pd.read_csv(\"data/congressional_voting.csv\",header=None)\n",
    "d = defaultdict(preprocessing.LabelEncoder)\n",
    "# Encoding the variable\n",
    "fit = df2.apply(lambda x: d[x.name].fit_transform(x))\n",
    "\n",
    "y = fit.iloc[:,0].values\n",
    "X = fit.iloc[:,1:].values\n",
    "X_train, X_test, y_train, y_test = train_test_split(X, y)"
   ]
  },
  {
   "cell_type": "code",
   "execution_count": 17,
   "metadata": {},
   "outputs": [
    {
     "name": "stdout",
     "output_type": "stream",
     "text": [
      "('SK RF score is ', 0.96330275229357798)\n",
      "('GV RF score is ', 0.963302752293578)\n"
     ]
    }
   ],
   "source": [
    "## Compare to Sklearn RandomForestClassifier\n",
    "from sklearn.ensemble import RandomForestClassifier\n",
    "rf_sk  = RandomForestClassifier(n_estimators=100,max_features=4)\n",
    "rf = RandomForest(num_trees=100, num_features=4)\n",
    "rf_sk.fit(X_train,y_train)\n",
    "rf.fit(X_train,y_train)\n",
    "print(\"SK RF score is \", rf_sk.score(X_test,y_test))\n",
    "print(\"GV RF score is \", rf.score(X_test,y_test))"
   ]
  },
  {
   "cell_type": "code",
   "execution_count": null,
   "metadata": {
    "collapsed": true
   },
   "outputs": [],
   "source": []
  }
 ],
 "metadata": {
  "kernelspec": {
   "display_name": "Python 2",
   "language": "python",
   "name": "python2"
  },
  "language_info": {
   "codemirror_mode": {
    "name": "ipython",
    "version": 2
   },
   "file_extension": ".py",
   "mimetype": "text/x-python",
   "name": "python",
   "nbconvert_exporter": "python",
   "pygments_lexer": "ipython2",
   "version": "2.7.13"
  }
 },
 "nbformat": 4,
 "nbformat_minor": 2
}
